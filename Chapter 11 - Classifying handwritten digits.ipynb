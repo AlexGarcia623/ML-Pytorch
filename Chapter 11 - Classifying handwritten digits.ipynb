{
 "cells": [
  {
   "cell_type": "code",
   "execution_count": 17,
   "id": "e06af66d",
   "metadata": {},
   "outputs": [],
   "source": [
    "import numpy as np\n",
    "import matplotlib.pyplot as plt\n",
    "from sklearn.datasets import fetch_openml\n",
    "from sklearn.model_selection import train_test_split\n"
   ]
  },
  {
   "cell_type": "markdown",
   "id": "83420d3c",
   "metadata": {},
   "source": [
    "# Getting the data"
   ]
  },
  {
   "cell_type": "code",
   "execution_count": 6,
   "id": "4ac3a8cc",
   "metadata": {},
   "outputs": [],
   "source": [
    "X, y = fetch_openml('mnist_784', version = 1, return_X_y=True)"
   ]
  },
  {
   "cell_type": "code",
   "execution_count": 7,
   "id": "0e6ba71a",
   "metadata": {},
   "outputs": [],
   "source": [
    "X = X.values\n",
    "y = y.astype(int).values"
   ]
  },
  {
   "cell_type": "code",
   "execution_count": 8,
   "id": "75fa5a0d",
   "metadata": {},
   "outputs": [
    {
     "data": {
      "text/plain": [
       "((70000, 784), (70000,))"
      ]
     },
     "execution_count": 8,
     "metadata": {},
     "output_type": "execute_result"
    }
   ],
   "source": [
    "X.shape, y.shape"
   ]
  },
  {
   "cell_type": "code",
   "execution_count": 9,
   "id": "355a7b15",
   "metadata": {},
   "outputs": [],
   "source": [
    "X = ((X / 255.) - 0.5) * 2"
   ]
  },
  {
   "cell_type": "code",
   "execution_count": 15,
   "id": "585e45e9",
   "metadata": {},
   "outputs": [
    {
     "data": {
      "image/png": "[encoded data removed]",
      "text/plain": [
       "<Figure size 640x480 with 10 Axes>"
      ]
     },
     "metadata": {},
     "output_type": "display_data"
    }
   ],
   "source": [
    "fig, axs = plt.subplots(2,5)\n",
    "axs = axs.flatten()\n",
    "for i in range(10):\n",
    "    im = X[y == i][0].reshape(28, 28)\n",
    "    axs[i].imshow(im, cmap='Greys')\n",
    "    axs[i].axis('off')\n",
    "    \n",
    "plt.tight_layout()"
   ]
  },
  {
   "cell_type": "code",
   "execution_count": 16,
   "id": "4676d127",
   "metadata": {},
   "outputs": [
    {
     "data": {
      "image/png": "[encoded data removed]",
      "text/plain": [
       "<Figure size 640x480 with 10 Axes>"
      ]
     },
     "metadata": {},
     "output_type": "display_data"
    }
   ],
   "source": [
    "fig, axs = plt.subplots(2,5)\n",
    "axs = axs.flatten()\n",
    "which_value = 1\n",
    "for i in range(10):\n",
    "    im = X[y == which_value][i].reshape(28,28)\n",
    "    axs[i].imshow(im, cmap='Greys')\n",
    "    axs[i].axis('off')\n",
    "    \n",
    "plt.tight_layout()"
   ]
  },
  {
   "cell_type": "code",
   "execution_count": 25,
   "id": "f2ed1166",
   "metadata": {},
   "outputs": [],
   "source": [
    "X_, X_test, y_, y_test = train_test_split(\n",
    "    X, y, test_size = int(1e4), random_state=123, stratify=y\n",
    ")\n",
    "X_train, X_val, y_train, y_val = train_test_split(\n",
    "    X_, y_, test_size = int(5e3), random_state=123, stratify=y_\n",
    ")"
   ]
  },
  {
   "cell_type": "markdown",
   "id": "dc5e1a9a",
   "metadata": {},
   "source": [
    "# Helper functions + Neural Net"
   ]
  },
  {
   "cell_type": "code",
   "execution_count": 27,
   "id": "f475065b",
   "metadata": {},
   "outputs": [],
   "source": [
    "def sigmoid(z):\n",
    "    return 1. / (1. + np.exp(-z))\n",
    "\n",
    "def int_to_onehot(y, num_labels):\n",
    "    \n",
    "    ary = np.zeros((y.shape[0], num_labels))\n",
    "    for i, val in enumerate(y):\n",
    "        ary[i, val] = 1\n",
    "        \n",
    "    return ary"
   ]
  },
  {
   "cell_type": "code",
   "execution_count": 29,
   "id": "6f457522",
   "metadata": {},
   "outputs": [],
   "source": [
    "class NeuralNetMLP:\n",
    "    \n",
    "    def __init__(self, num_features, num_hidden,\n",
    "                 num_classes, random_seed=123):\n",
    "        \n",
    "        super().__init__()\n",
    "        \n",
    "        self.num_classes = num_classes\n",
    "        \n",
    "        # hidden \n",
    "        rng = np.random.RandomState(random_seed)\n",
    "        \n",
    "        self.weight_h = rng.normal(\n",
    "            loc = 0.0, scale = 0.1, size=(num_hidden, num_features)\n",
    "        )\n",
    "        self.bias_h = np.zeros(num_hidden)\n",
    "        \n",
    "        # output\n",
    "        self.weight_out = rng.normal(\n",
    "            loc = 0.0, scale = 0.1, size=(num_classes, num_hidden)\n",
    "        )\n",
    "        self.bias_out = np.zeros(num_classes)\n",
    "        \n",
    "    def forward(self, x):\n",
    "        # Hidden Layer\n",
    "        \n",
    "        # input dimension  -> [n_examples, n_features]\n",
    "        #             dot  -> [n_hidden, n_features].T\n",
    "        # output dimension -> [n_examples, n_hidden]\n",
    "        z_h = np.dot(x, self.weight_h.T) + self.bias_h\n",
    "        a_h = sigmoid(z_h)\n",
    "        \n",
    "        # Output layer\n",
    "        \n",
    "        # input dimension  -> [n_examples, n_hidden]\n",
    "        #             dot  -> [n_classes, n_hidden].T\n",
    "        # output dimension -> [n_examples, n_classes]\n",
    "        z_out = np.dot(x, self.weight_out.T) + self.bias_out\n",
    "        a_out = sigmoid(z_out)\n",
    "        \n",
    "        return a_h, a_out\n",
    "    \n",
    "    def backward(self, x, a_h, a_out, y):\n",
    "        ########################\n",
    "        ### Output Layer weights\n",
    "        ########################\n",
    "        \n",
    "        # one-hot encoding\n",
    "        y_onehot = int_to_onehot(y, self.num_classes)\n",
    "        \n",
    "        ################################################################\n",
    "        # Part 1: dLoss / dOutWeights\n",
    "        ## = dLoss / dOutAct * dOutAct / dOutNet * dOutNet / dOutWeight\n",
    "        ## where DeltaOut = dLoss / dOutAct * dOutAct / dOutNet\n",
    "        ## for convenient re-use\n",
    "        \n",
    "        # input/output dim: [n_examples, n_classes]\n",
    "        d_loss__d_a_out = 2. * (a_out - y_onehot) / y.shape[0]\n",
    "        \n",
    "        # input/output dim: [n_examples, n_classes]\n",
    "        d_a_out__d_z_out = a_out * (1 - a_out) # derivative of sigmoid\n",
    "        \n",
    "        # output dim: [n_examples, n_classes]\n",
    "        delta_out = d_loss__d_a_out * d_a_out__d_z_out\n",
    "        \n",
    "        # gradient for output weights\n",
    "        \n",
    "        # [n_examples, n_hidden]\n",
    "        d_z_out__dw_out = a_h\n",
    "        \n",
    "        # input dim  -> [n_classes , n_examples]\n",
    "        #       dot  -> [n_examples, n_hidden]\n",
    "        # output dim -> [n_classes , n_hidden]\n",
    "        d_loss__dw_out = np.dot(delta_out.T, d_z_out__dw_out)\n",
    "        d_loss__dl_out = np.sum(delta_out, axis = 0)\n",
    "        \n",
    "        ################################################################\n",
    "        \n",
    "        ################################################################\n",
    "        # Part 2: dLoss / dHiddenWeights\n",
    "        ## = DeltaOut * dOutNet / dHiddenAct * dHiddenAct / dHiddenNet * dHiddenNet / dWeight\n",
    "        \n",
    "        # [n_classes, n_hidden]\n",
    "        d_z_out__a_h = self.weight_out\n",
    "        \n",
    "        # output dim: [n_examples, n_hidden]\n",
    "        d_loss__a_h = np.dot(delta_out, d_z_out__a_h)\n",
    "        \n",
    "        # [n_examples, n_hidden]\n",
    "        d_a_h__d_z_h = a_h * (1. - a_h) # derivative of sigmoid\n",
    "        \n",
    "        # [n_examples, n_features]\n",
    "        d_z_h__d_w_h = x\n",
    "        \n",
    "        # output dim: [n_hidden, n_features]\n",
    "        d_loss__d_w_h = np.dot( (d_loss__a_h * d_a_h__d_z_h).T, d_z_h__d_w_h )\n",
    "        d_loss__d_b_h = np.sum( d_loss_a_h * d_a_h__d_z_h, axis=0 )\n",
    "        \n",
    "        return (d_loss__dw_out, d_loss_db_out,\n",
    "                d_loss__dw_h  , d_loss__d_b_h)"
   ]
  },
  {
   "cell_type": "code",
   "execution_count": 31,
   "id": "e2cff2d5",
   "metadata": {},
   "outputs": [],
   "source": [
    "model = NeuralNetMLP(num_features=28*28,\n",
    "                     num_hidden  =50,\n",
    "                     num_classes =10)"
   ]
  },
  {
   "cell_type": "code",
   "execution_count": null,
   "id": "13675b1c",
   "metadata": {},
   "outputs": [],
   "source": []
  }
 ],
 "metadata": {
  "kernelspec": {
   "display_name": "Python 3 (ipykernel)",
   "language": "python",
   "name": "python3"
  },
  "language_info": {
   "codemirror_mode": {
    "name": "ipython",
    "version": 3
   },
   "file_extension": ".py",
   "mimetype": "text/x-python",
   "name": "python",
   "nbconvert_exporter": "python",
   "pygments_lexer": "ipython3",
   "version": "3.9.13"
  }
 },
 "nbformat": 4,
 "nbformat_minor": 5
}
